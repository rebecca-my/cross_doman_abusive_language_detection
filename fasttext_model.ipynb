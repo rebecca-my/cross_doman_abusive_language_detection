{
 "cells": [
  {
   "cell_type": "code",
   "execution_count": 1,
   "id": "fd093047",
   "metadata": {},
   "outputs": [
    {
     "ename": "ModuleNotFoundError",
     "evalue": "No module named 'deep_plots'",
     "output_type": "error",
     "traceback": [
      "\u001b[0;31m---------------------------------------------------------------------------\u001b[0m",
      "\u001b[0;31mModuleNotFoundError\u001b[0m                       Traceback (most recent call last)",
      "\u001b[0;32m<ipython-input-1-ef04462a3ce0>\u001b[0m in \u001b[0;36m<module>\u001b[0;34m\u001b[0m\n\u001b[1;32m      1\u001b[0m \u001b[0;32mimport\u001b[0m \u001b[0mpandas\u001b[0m \u001b[0;32mas\u001b[0m \u001b[0mpd\u001b[0m\u001b[0;34m\u001b[0m\u001b[0;34m\u001b[0m\u001b[0m\n\u001b[0;32m----> 2\u001b[0;31m \u001b[0;32mfrom\u001b[0m \u001b[0mtexcla\u001b[0m \u001b[0;32mimport\u001b[0m \u001b[0mexperiment\u001b[0m\u001b[0;34m,\u001b[0m \u001b[0mdata\u001b[0m\u001b[0;34m\u001b[0m\u001b[0;34m\u001b[0m\u001b[0m\n\u001b[0m\u001b[1;32m      3\u001b[0m \u001b[0;32mfrom\u001b[0m \u001b[0mtexcla\u001b[0m\u001b[0;34m.\u001b[0m\u001b[0mmodels\u001b[0m \u001b[0;32mimport\u001b[0m \u001b[0mTokenModelFactory\u001b[0m\u001b[0;34m,\u001b[0m \u001b[0mYoonKimCNN\u001b[0m\u001b[0;34m\u001b[0m\u001b[0;34m\u001b[0m\u001b[0m\n\u001b[1;32m      4\u001b[0m \u001b[0;32mfrom\u001b[0m \u001b[0mtexcla\u001b[0m\u001b[0;34m.\u001b[0m\u001b[0mpreprocessing\u001b[0m \u001b[0;32mimport\u001b[0m \u001b[0mFastTextWikiTokenizer\u001b[0m\u001b[0;34m\u001b[0m\u001b[0;34m\u001b[0m\u001b[0m\n",
      "\u001b[0;32m~/opt/anaconda3/envs/nlp/lib/python3.8/site-packages/texcla/experiment.py\u001b[0m in \u001b[0;36m<module>\u001b[0;34m\u001b[0m\n\u001b[1;32m      7\u001b[0m \u001b[0;32mfrom\u001b[0m \u001b[0mshutil\u001b[0m \u001b[0;32mimport\u001b[0m \u001b[0mcopyfile\u001b[0m\u001b[0;34m,\u001b[0m \u001b[0mmove\u001b[0m\u001b[0;34m\u001b[0m\u001b[0;34m\u001b[0m\u001b[0m\n\u001b[1;32m      8\u001b[0m \u001b[0;34m\u001b[0m\u001b[0m\n\u001b[0;32m----> 9\u001b[0;31m \u001b[0;32mimport\u001b[0m \u001b[0mdeep_plots\u001b[0m\u001b[0;34m\u001b[0m\u001b[0;34m\u001b[0m\u001b[0m\n\u001b[0m\u001b[1;32m     10\u001b[0m \u001b[0;32mimport\u001b[0m \u001b[0mkeras\u001b[0m\u001b[0;34m\u001b[0m\u001b[0;34m\u001b[0m\u001b[0m\n\u001b[1;32m     11\u001b[0m \u001b[0;32mimport\u001b[0m \u001b[0msix\u001b[0m\u001b[0;34m\u001b[0m\u001b[0;34m\u001b[0m\u001b[0m\n",
      "\u001b[0;31mModuleNotFoundError\u001b[0m: No module named 'deep_plots'"
     ]
    }
   ],
   "source": [
    "import pandas as pd\n",
    "from texcla import experiment, data\n",
    "from texcla.models import TokenModelFactory, YoonKimCNN\n",
    "from texcla.preprocessing import FastTextWikiTokenizer"
   ]
  },
  {
   "cell_type": "code",
   "execution_count": 3,
   "id": "ee8d2bf2",
   "metadata": {},
   "outputs": [],
   "source": [
    "df_train = pd.read_csv('train.csv')\n",
    "df_val = pd.read_csv('val.csv')\n",
    "df_test = pd.read_csv('test.csv')"
   ]
  },
  {
   "cell_type": "code",
   "execution_count": null,
   "id": "d65ab9fc",
   "metadata": {},
   "outputs": [],
   "source": [
    "# input text\n",
    "X = df_train['text']\n",
    "\n",
    "# input labels\n",
    "y = df_train['label']\n",
    "\n",
    "# use the special tokenizer used for constructing the embeddings\n",
    "tokenizer = FastTextWikiTokenizer()\n",
    "\n",
    "# preprocess data (once)\n",
    "experiment.setup_data(X, y, tokenizer, 'data.bin', max_len=100)\n",
    "\n",
    "# load data\n",
    "ds = data.Dataset.load('data.bin')\n",
    "\n",
    "# construct base\n",
    "factory = TokenModelFactory(\n",
    "    ds.num_classes, ds.tokenizer.token_index, max_tokens=100,\n",
    "    embedding_type='fasttext.wiki.simple', embedding_dims=300)\n",
    "\n",
    "# choose a model\n",
    "word_encoder_model = YoonKimCNN()\n",
    "\n",
    "# build a model\n",
    "model = factory.build_model(\n",
    "    token_encoder_model=word_encoder_model, trainable_embeddings=False)\n",
    "\n",
    "# use experiment.train as wrapper for Keras.fit()\n",
    "experiment.train(x=ds.X, y=ds.y, validation_split=0.1, model=model,\n",
    "    word_encoder_model=word_encoder_model)"
   ]
  }
 ],
 "metadata": {
  "kernelspec": {
   "display_name": "Python 3",
   "language": "python",
   "name": "python3"
  },
  "language_info": {
   "codemirror_mode": {
    "name": "ipython",
    "version": 3
   },
   "file_extension": ".py",
   "mimetype": "text/x-python",
   "name": "python",
   "nbconvert_exporter": "python",
   "pygments_lexer": "ipython3",
   "version": "3.8.8"
  }
 },
 "nbformat": 4,
 "nbformat_minor": 5
}
