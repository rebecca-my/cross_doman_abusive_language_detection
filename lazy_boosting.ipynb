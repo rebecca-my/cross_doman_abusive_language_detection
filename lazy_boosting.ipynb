{
 "cells": [
  {
   "cell_type": "code",
   "execution_count": 1,
   "id": "objective-corner",
   "metadata": {},
   "outputs": [],
   "source": [
    "import warnings\n",
    "warnings.filterwarnings('ignore')\n",
    "import pandas as pd\n",
    "from collections import defaultdict\n",
    "from sklearn.model_selection import train_test_split\n",
    "from sklearn.ensemble import RandomForestClassifier, AdaBoostClassifier\n",
    "from sklearn.feature_extraction.text import TfidfVectorizer\n",
    "from sklearn.metrics import classification_report\n",
    "import numpy as np"
   ]
  },
  {
   "cell_type": "code",
   "execution_count": 2,
   "id": "correct-individual",
   "metadata": {},
   "outputs": [],
   "source": [
    "basepath = 'base_path/'"
   ]
  },
  {
   "cell_type": "code",
   "execution_count": 3,
   "id": "41cd0eab",
   "metadata": {},
   "outputs": [],
   "source": [
    "# founta_data = pd.read_csv('founta_full_data.csv')\n",
    "# waseem_data = pd.read_csv('waseem_full_data.csv')\n",
    "# razavai_data = pd.read_csv('razavai_full_data.csv')"
   ]
  },
  {
   "cell_type": "markdown",
   "id": "cb812f29",
   "metadata": {},
   "source": [
    "##### \n",
    "founta total: 59321\n",
    "founta hate: 8424\n",
    "founta no hate: 50887\n",
    "\n",
    "waseem total: 14143\n",
    "waseem hate: 494\n",
    "waseem no hate: 13649\n",
    "\n",
    "razavai total: 1496\n",
    "razavai hate: 475\n",
    "razavai no hate: 1021"
   ]
  },
  {
   "cell_type": "code",
   "execution_count": 11,
   "id": "842ec6d8",
   "metadata": {},
   "outputs": [],
   "source": [
    "# df_waseem = pd.DataFrame(waseem_data)\n",
    "# df_founta = pd.DataFrame(founta_data)\n",
    "# df_razavai = pd.DataFrame(razavai_data)"
   ]
  },
  {
   "cell_type": "code",
   "execution_count": 6,
   "id": "6b28de1f",
   "metadata": {},
   "outputs": [],
   "source": [
    "## splitting across each dataset\n",
    "waseem_train, waseem_test_val = train_test_split(df_waseem, test_size=0.2)\n",
    "waseem_test, waseem_val = train_test_split(waseem_test_val, test_size=0.5)\n",
    "\n",
    "razavai_train, razavai_test_val = train_test_split(df_razavai, test_size=0.2)\n",
    "razavai_test, razavai_val = train_test_split(razavai_test_val, test_size=0.5)\n",
    "\n",
    "founta_train, founta_test_val = train_test_split(df_founta, test_size=0.2)\n",
    "founta_test, founta_val = train_test_split(founta_test_val, test_size=0.5)"
   ]
  },
  {
   "cell_type": "code",
   "execution_count": 8,
   "id": "ba2d7090",
   "metadata": {},
   "outputs": [],
   "source": [
    "## joining all data for stratified sets\n",
    "df_train = pd.concat([waseem_train,founta_train,razavai_train])\n",
    "df_val = pd.concat([waseem_val,founta_val,razavai_val])\n",
    "df_test = pd.concat([waseem_test,founta_test,razavai_test])"
   ]
  },
  {
   "cell_type": "code",
   "execution_count": 12,
   "id": "c860425e",
   "metadata": {},
   "outputs": [],
   "source": [
    "## weighting the labeling\n",
    "df_train['label'].value_counts()\n",
    "df_train['weight'] = np.where(df_train['label']==0, 0.5, 2.5)\n",
    "print(df_train[df_train['label']==0]['weight'].sum())\n",
    "print(df_train[df_train['label']==1]['weight'].sum())"
   ]
  },
  {
   "cell_type": "code",
   "execution_count": 10,
   "id": "9ddca7f3",
   "metadata": {},
   "outputs": [],
   "source": [
    "df_train.to_csv('train.csv', index=False)\n",
    "df_val.to_csv('val.csv', index=False)\n",
    "df_test.to_csv('test.csv', index=False)"
   ]
  },
  {
   "cell_type": "code",
   "execution_count": 102,
   "id": "bdcda78a",
   "metadata": {},
   "outputs": [],
   "source": [
    "vectorizer = TfidfVectorizer()\n",
    "x_train = vectorizer.fit_transform(df_train['text'])\n",
    "x_val = vectorizer.transform(df_val['text'])\n",
    "x_test = vectorizer.transform(df_test['text'])"
   ]
  },
  {
   "cell_type": "code",
   "execution_count": 108,
   "id": "7676f24f",
   "metadata": {},
   "outputs": [
    {
     "data": {
      "text/plain": [
       "(59783, 96571)"
      ]
     },
     "execution_count": 108,
     "metadata": {},
     "output_type": "execute_result"
    }
   ],
   "source": [
    "x_train.shape"
   ]
  },
  {
   "cell_type": "code",
   "execution_count": 109,
   "id": "a6a3e5a0",
   "metadata": {},
   "outputs": [],
   "source": [
    "## with n_est =1 this is essentially a decision of tree, but gives us access to max_features, etc.\n",
    "base_estimator = RandomForestClassifier(n_estimators=1, max_depth=1, max_features='sqrt')\n",
    "model = AdaBoostClassifier(base_estimator=base_estimator, n_estimators=1000)"
   ]
  },
  {
   "cell_type": "code",
   "execution_count": 110,
   "id": "aae97ce3",
   "metadata": {},
   "outputs": [
    {
     "data": {
      "text/plain": [
       "AdaBoostClassifier(base_estimator=RandomForestClassifier(max_depth=1,\n",
       "                                                         max_features='sqrt',\n",
       "                                                         n_estimators=1),\n",
       "                   n_estimators=1000)"
      ]
     },
     "execution_count": 110,
     "metadata": {},
     "output_type": "execute_result"
    }
   ],
   "source": [
    "model.fit(x_train, df_train['label'], df_train['weight'])"
   ]
  },
  {
   "cell_type": "code",
   "execution_count": 111,
   "id": "28b9c775",
   "metadata": {},
   "outputs": [
    {
     "name": "stdout",
     "output_type": "stream",
     "text": [
      "              precision    recall  f1-score   support\n",
      "\n",
      "           0       0.89      0.81      0.85      5065\n",
      "           1       0.27      0.42      0.33       847\n",
      "\n",
      "    accuracy                           0.76      5912\n",
      "   macro avg       0.58      0.62      0.59      5912\n",
      "weighted avg       0.80      0.76      0.78      5912\n",
      "\n"
     ]
    }
   ],
   "source": [
    "df_val['y_pred'] = model.predict(x_val)\n",
    "temp1 = df_val[df_val['source']=='founta']['label']\n",
    "temp2 = df_val[df_val['source']=='founta']['y_pred']\n",
    "print(classification_report(temp1, temp2))"
   ]
  },
  {
   "cell_type": "code",
   "execution_count": 112,
   "id": "9ac21100",
   "metadata": {},
   "outputs": [
    {
     "name": "stdout",
     "output_type": "stream",
     "text": [
      "              precision    recall  f1-score   support\n",
      "\n",
      "           0       0.97      0.84      0.90      1359\n",
      "           1       0.05      0.23      0.08        53\n",
      "\n",
      "    accuracy                           0.81      1412\n",
      "   macro avg       0.51      0.53      0.49      1412\n",
      "weighted avg       0.93      0.81      0.86      1412\n",
      "\n"
     ]
    }
   ],
   "source": [
    "temp1 = df_val[df_val['source']=='waseem']['label']\n",
    "temp2 = df_val[df_val['source']=='waseem']['y_pred']\n",
    "print(classification_report(temp1, temp2))"
   ]
  },
  {
   "cell_type": "code",
   "execution_count": 113,
   "id": "c2619393",
   "metadata": {},
   "outputs": [
    {
     "name": "stdout",
     "output_type": "stream",
     "text": [
      "              precision    recall  f1-score   support\n",
      "\n",
      "           0       0.63      0.67      0.65        95\n",
      "           1       0.37      0.33      0.35        55\n",
      "\n",
      "    accuracy                           0.55       150\n",
      "   macro avg       0.50      0.50      0.50       150\n",
      "weighted avg       0.54      0.55      0.54       150\n",
      "\n"
     ]
    }
   ],
   "source": [
    "temp1 = df_val[df_val['source']=='razavai']['label']\n",
    "temp2 = df_val[df_val['source']=='razavai']['y_pred']\n",
    "print(classification_report(temp1, temp2))"
   ]
  },
  {
   "cell_type": "code",
   "execution_count": 13,
   "id": "4b720406",
   "metadata": {},
   "outputs": [
    {
     "data": {
      "text/html": [
       "<div>\n",
       "<style scoped>\n",
       "    .dataframe tbody tr th:only-of-type {\n",
       "        vertical-align: middle;\n",
       "    }\n",
       "\n",
       "    .dataframe tbody tr th {\n",
       "        vertical-align: top;\n",
       "    }\n",
       "\n",
       "    .dataframe thead th {\n",
       "        text-align: right;\n",
       "    }\n",
       "</style>\n",
       "<table border=\"1\" class=\"dataframe\">\n",
       "  <thead>\n",
       "    <tr style=\"text-align: right;\">\n",
       "      <th></th>\n",
       "      <th>text</th>\n",
       "      <th>label</th>\n",
       "      <th>char count</th>\n",
       "      <th>source</th>\n",
       "      <th>weight</th>\n",
       "    </tr>\n",
       "  </thead>\n",
       "  <tbody>\n",
       "    <tr>\n",
       "      <th>14058</th>\n",
       "      <td>Productive weekend! :thumbs_up::face_blowing_a...</td>\n",
       "      <td>0</td>\n",
       "      <td>52</td>\n",
       "      <td>waseem</td>\n",
       "      <td>0.5</td>\n",
       "    </tr>\n",
       "    <tr>\n",
       "      <th>427</th>\n",
       "      <td>@ShariaIsJustice \"Yeap,\" Islam is for ignorant...</td>\n",
       "      <td>1</td>\n",
       "      <td>53</td>\n",
       "      <td>waseem</td>\n",
       "      <td>2.5</td>\n",
       "    </tr>\n",
       "    <tr>\n",
       "      <th>5899</th>\n",
       "      <td>#mkr I'm out people. Going to @Mr_Fanta_Pants ...</td>\n",
       "      <td>0</td>\n",
       "      <td>90</td>\n",
       "      <td>waseem</td>\n",
       "      <td>0.5</td>\n",
       "    </tr>\n",
       "    <tr>\n",
       "      <th>6826</th>\n",
       "      <td>If Sheri and Emilie go \"home,\" im not watching...</td>\n",
       "      <td>0</td>\n",
       "      <td>71</td>\n",
       "      <td>waseem</td>\n",
       "      <td>0.5</td>\n",
       "    </tr>\n",
       "    <tr>\n",
       "      <th>3660</th>\n",
       "      <td>RT @LouisRITHPotter I'm not \"sexist,\" but some...</td>\n",
       "      <td>0</td>\n",
       "      <td>77</td>\n",
       "      <td>waseem</td>\n",
       "      <td>0.5</td>\n",
       "    </tr>\n",
       "    <tr>\n",
       "      <th>...</th>\n",
       "      <td>...</td>\n",
       "      <td>...</td>\n",
       "      <td>...</td>\n",
       "      <td>...</td>\n",
       "      <td>...</td>\n",
       "    </tr>\n",
       "    <tr>\n",
       "      <th>748</th>\n",
       "      <td>that decision of yours to stop writing can you...</td>\n",
       "      <td>0</td>\n",
       "      <td>65</td>\n",
       "      <td>razavai</td>\n",
       "      <td>0.5</td>\n",
       "    </tr>\n",
       "    <tr>\n",
       "      <th>854</th>\n",
       "      <td>NOS = No One wanted it then , and it is old Sh...</td>\n",
       "      <td>0</td>\n",
       "      <td>58</td>\n",
       "      <td>razavai</td>\n",
       "      <td>0.5</td>\n",
       "    </tr>\n",
       "    <tr>\n",
       "      <th>456</th>\n",
       "      <td>and what is your name asshole \\n</td>\n",
       "      <td>1</td>\n",
       "      <td>31</td>\n",
       "      <td>razavai</td>\n",
       "      <td>2.5</td>\n",
       "    </tr>\n",
       "    <tr>\n",
       "      <th>1155</th>\n",
       "      <td>would you be helpful and share with all of us ...</td>\n",
       "      <td>0</td>\n",
       "      <td>69</td>\n",
       "      <td>razavai</td>\n",
       "      <td>0.5</td>\n",
       "    </tr>\n",
       "    <tr>\n",
       "      <th>1363</th>\n",
       "      <td>can you share with us name of that person that...</td>\n",
       "      <td>0</td>\n",
       "      <td>68</td>\n",
       "      <td>razavai</td>\n",
       "      <td>0.5</td>\n",
       "    </tr>\n",
       "  </tbody>\n",
       "</table>\n",
       "<p>24924 rows × 5 columns</p>\n",
       "</div>"
      ],
      "text/plain": [
       "                                                    text  label  char count  \\\n",
       "14058  Productive weekend! :thumbs_up::face_blowing_a...      0          52   \n",
       "427    @ShariaIsJustice \"Yeap,\" Islam is for ignorant...      1          53   \n",
       "5899   #mkr I'm out people. Going to @Mr_Fanta_Pants ...      0          90   \n",
       "6826   If Sheri and Emilie go \"home,\" im not watching...      0          71   \n",
       "3660   RT @LouisRITHPotter I'm not \"sexist,\" but some...      0          77   \n",
       "...                                                  ...    ...         ...   \n",
       "748    that decision of yours to stop writing can you...      0          65   \n",
       "854    NOS = No One wanted it then , and it is old Sh...      0          58   \n",
       "456                     and what is your name asshole \\n      1          31   \n",
       "1155   would you be helpful and share with all of us ...      0          69   \n",
       "1363   can you share with us name of that person that...      0          68   \n",
       "\n",
       "        source  weight  \n",
       "14058   waseem     0.5  \n",
       "427     waseem     2.5  \n",
       "5899    waseem     0.5  \n",
       "6826    waseem     0.5  \n",
       "3660    waseem     0.5  \n",
       "...        ...     ...  \n",
       "748    razavai     0.5  \n",
       "854    razavai     0.5  \n",
       "456    razavai     2.5  \n",
       "1155   razavai     0.5  \n",
       "1363   razavai     0.5  \n",
       "\n",
       "[24924 rows x 5 columns]"
      ]
     },
     "execution_count": 13,
     "metadata": {},
     "output_type": "execute_result"
    }
   ],
   "source": [
    "## we could do this if we wanted to capture instances of a within a specified length\n",
    "df_train[df_train['char count']<100]"
   ]
  },
  {
   "cell_type": "code",
   "execution_count": 14,
   "id": "2f5115b5",
   "metadata": {},
   "outputs": [],
   "source": [
    "# print(df_razavai['char count'].mean())\n",
    "# print(df_razavai['char count'].median())\n",
    "# print(df_razavai['char count'].min())\n",
    "# print(df_razavai['char count'].max())"
   ]
  }
 ],
 "metadata": {
  "kernelspec": {
   "display_name": "Python 3",
   "language": "python",
   "name": "python3"
  },
  "language_info": {
   "codemirror_mode": {
    "name": "ipython",
    "version": 3
   },
   "file_extension": ".py",
   "mimetype": "text/x-python",
   "name": "python",
   "nbconvert_exporter": "python",
   "pygments_lexer": "ipython3",
   "version": "3.8.8"
  }
 },
 "nbformat": 4,
 "nbformat_minor": 5
}
